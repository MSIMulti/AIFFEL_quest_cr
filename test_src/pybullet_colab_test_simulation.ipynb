{
  "nbformat": 4,
  "nbformat_minor": 0,
  "metadata": {
    "colab": {
      "provenance": [],
      "mount_file_id": "1zs01xabIe9CLC_Wb-n89qyjgt5NwAxcS",
      "authorship_tag": "ABX9TyPPN18uf1mi5/7FmbHXJgQq",
      "include_colab_link": true
    },
    "kernelspec": {
      "name": "python3",
      "display_name": "Python 3"
    },
    "language_info": {
      "name": "python"
    }
  },
  "cells": [
    {
      "cell_type": "markdown",
      "metadata": {
        "id": "view-in-github",
        "colab_type": "text"
      },
      "source": [
        "<a href=\"https://colab.research.google.com/github/MSIMulti/AIFFEL_quest_cr/blob/master/test_src/pybullet_colab_test_simulation.ipynb\" target=\"_parent\"><img src=\"https://colab.research.google.com/assets/colab-badge.svg\" alt=\"Open In Colab\"/></a>"
      ]
    },
    {
      "cell_type": "code",
      "execution_count": null,
      "metadata": {
        "colab": {
          "base_uri": "https://localhost:8080/"
        },
        "id": "ViEZhcS3QHFT",
        "outputId": "2b2e9305-cac9-4062-8195-9719d3e95d60"
      },
      "outputs": [
        {
          "output_type": "stream",
          "name": "stdout",
          "text": [
            "Collecting ultralytics\n",
            "  Downloading ultralytics-8.3.55-py3-none-any.whl.metadata (35 kB)\n",
            "Requirement already satisfied: opencv-python in /usr/local/lib/python3.10/dist-packages (4.10.0.84)\n",
            "Collecting pybullet\n",
            "  Downloading pybullet-3.2.6-cp310-cp310-manylinux_2_17_x86_64.manylinux2014_x86_64.whl.metadata (1.8 kB)\n",
            "Requirement already satisfied: matplotlib in /usr/local/lib/python3.10/dist-packages (3.8.0)\n",
            "Requirement already satisfied: numpy>=1.23.0 in /usr/local/lib/python3.10/dist-packages (from ultralytics) (1.26.4)\n",
            "Requirement already satisfied: pillow>=7.1.2 in /usr/local/lib/python3.10/dist-packages (from ultralytics) (11.0.0)\n",
            "Requirement already satisfied: pyyaml>=5.3.1 in /usr/local/lib/python3.10/dist-packages (from ultralytics) (6.0.2)\n",
            "Requirement already satisfied: requests>=2.23.0 in /usr/local/lib/python3.10/dist-packages (from ultralytics) (2.32.3)\n",
            "Requirement already satisfied: scipy>=1.4.1 in /usr/local/lib/python3.10/dist-packages (from ultralytics) (1.13.1)\n",
            "Requirement already satisfied: torch>=1.8.0 in /usr/local/lib/python3.10/dist-packages (from ultralytics) (2.5.1+cu121)\n",
            "Requirement already satisfied: torchvision>=0.9.0 in /usr/local/lib/python3.10/dist-packages (from ultralytics) (0.20.1+cu121)\n",
            "Requirement already satisfied: tqdm>=4.64.0 in /usr/local/lib/python3.10/dist-packages (from ultralytics) (4.67.1)\n",
            "Requirement already satisfied: psutil in /usr/local/lib/python3.10/dist-packages (from ultralytics) (5.9.5)\n",
            "Requirement already satisfied: py-cpuinfo in /usr/local/lib/python3.10/dist-packages (from ultralytics) (9.0.0)\n",
            "Requirement already satisfied: pandas>=1.1.4 in /usr/local/lib/python3.10/dist-packages (from ultralytics) (2.2.2)\n",
            "Requirement already satisfied: seaborn>=0.11.0 in /usr/local/lib/python3.10/dist-packages (from ultralytics) (0.13.2)\n",
            "Collecting ultralytics-thop>=2.0.0 (from ultralytics)\n",
            "  Downloading ultralytics_thop-2.0.13-py3-none-any.whl.metadata (9.4 kB)\n",
            "Requirement already satisfied: contourpy>=1.0.1 in /usr/local/lib/python3.10/dist-packages (from matplotlib) (1.3.1)\n",
            "Requirement already satisfied: cycler>=0.10 in /usr/local/lib/python3.10/dist-packages (from matplotlib) (0.12.1)\n",
            "Requirement already satisfied: fonttools>=4.22.0 in /usr/local/lib/python3.10/dist-packages (from matplotlib) (4.55.3)\n",
            "Requirement already satisfied: kiwisolver>=1.0.1 in /usr/local/lib/python3.10/dist-packages (from matplotlib) (1.4.7)\n",
            "Requirement already satisfied: packaging>=20.0 in /usr/local/lib/python3.10/dist-packages (from matplotlib) (24.2)\n",
            "Requirement already satisfied: pyparsing>=2.3.1 in /usr/local/lib/python3.10/dist-packages (from matplotlib) (3.2.0)\n",
            "Requirement already satisfied: python-dateutil>=2.7 in /usr/local/lib/python3.10/dist-packages (from matplotlib) (2.8.2)\n",
            "Requirement already satisfied: pytz>=2020.1 in /usr/local/lib/python3.10/dist-packages (from pandas>=1.1.4->ultralytics) (2024.2)\n",
            "Requirement already satisfied: tzdata>=2022.7 in /usr/local/lib/python3.10/dist-packages (from pandas>=1.1.4->ultralytics) (2024.2)\n",
            "Requirement already satisfied: six>=1.5 in /usr/local/lib/python3.10/dist-packages (from python-dateutil>=2.7->matplotlib) (1.17.0)\n",
            "Requirement already satisfied: charset-normalizer<4,>=2 in /usr/local/lib/python3.10/dist-packages (from requests>=2.23.0->ultralytics) (3.4.0)\n",
            "Requirement already satisfied: idna<4,>=2.5 in /usr/local/lib/python3.10/dist-packages (from requests>=2.23.0->ultralytics) (3.10)\n",
            "Requirement already satisfied: urllib3<3,>=1.21.1 in /usr/local/lib/python3.10/dist-packages (from requests>=2.23.0->ultralytics) (2.2.3)\n",
            "Requirement already satisfied: certifi>=2017.4.17 in /usr/local/lib/python3.10/dist-packages (from requests>=2.23.0->ultralytics) (2024.12.14)\n",
            "Requirement already satisfied: filelock in /usr/local/lib/python3.10/dist-packages (from torch>=1.8.0->ultralytics) (3.16.1)\n",
            "Requirement already satisfied: typing-extensions>=4.8.0 in /usr/local/lib/python3.10/dist-packages (from torch>=1.8.0->ultralytics) (4.12.2)\n",
            "Requirement already satisfied: networkx in /usr/local/lib/python3.10/dist-packages (from torch>=1.8.0->ultralytics) (3.4.2)\n",
            "Requirement already satisfied: jinja2 in /usr/local/lib/python3.10/dist-packages (from torch>=1.8.0->ultralytics) (3.1.4)\n",
            "Requirement already satisfied: fsspec in /usr/local/lib/python3.10/dist-packages (from torch>=1.8.0->ultralytics) (2024.10.0)\n",
            "Requirement already satisfied: sympy==1.13.1 in /usr/local/lib/python3.10/dist-packages (from torch>=1.8.0->ultralytics) (1.13.1)\n",
            "Requirement already satisfied: mpmath<1.4,>=1.1.0 in /usr/local/lib/python3.10/dist-packages (from sympy==1.13.1->torch>=1.8.0->ultralytics) (1.3.0)\n",
            "Requirement already satisfied: MarkupSafe>=2.0 in /usr/local/lib/python3.10/dist-packages (from jinja2->torch>=1.8.0->ultralytics) (3.0.2)\n",
            "Downloading ultralytics-8.3.55-py3-none-any.whl (904 kB)\n",
            "\u001b[2K   \u001b[90m━━━━━━━━━━━━━━━━━━━━━━━━━━━━━━━━━━━━━━━━\u001b[0m \u001b[32m904.3/904.3 kB\u001b[0m \u001b[31m15.7 MB/s\u001b[0m eta \u001b[36m0:00:00\u001b[0m\n",
            "\u001b[?25hDownloading pybullet-3.2.6-cp310-cp310-manylinux_2_17_x86_64.manylinux2014_x86_64.whl (103.2 MB)\n",
            "\u001b[2K   \u001b[90m━━━━━━━━━━━━━━━━━━━━━━━━━━━━━━━━━━━━━━━━\u001b[0m \u001b[32m103.2/103.2 MB\u001b[0m \u001b[31m7.2 MB/s\u001b[0m eta \u001b[36m0:00:00\u001b[0m\n",
            "\u001b[?25hDownloading ultralytics_thop-2.0.13-py3-none-any.whl (26 kB)\n",
            "Installing collected packages: pybullet, ultralytics-thop, ultralytics\n",
            "Successfully installed pybullet-3.2.6 ultralytics-8.3.55 ultralytics-thop-2.0.13\n"
          ]
        }
      ],
      "source": [
        "!pip install ultralytics opencv-python pybullet matplotlib"
      ]
    },
    {
      "cell_type": "code",
      "source": [
        "import cv2\n",
        "import numpy as np\n",
        "import pybullet as p\n",
        "import pybullet_data\n",
        "from ultralytics import YOLO\n",
        "import matplotlib.pyplot as plt\n",
        "import os\n",
        "\n",
        "# YOLO 모델 로드\n",
        "model = YOLO(\"yolov8n.pt\")  # YOLO 모델 파일\n",
        "\n",
        "# 비디오 파일 경로\n",
        "video_path = \"/content/drive/MyDrive/billiard_game.mp4\"\n",
        "if not os.path.exists(video_path):\n",
        "    print(\"비디오 파일이 존재하지 않습니다. 경로를 확인하세요.\")\n",
        "    exit()\n",
        "\n",
        "# 비디오 캡처 객체 생성\n",
        "cap = cv2.VideoCapture(video_path)\n",
        "if not cap.isOpened():\n",
        "    print(\"비디오 파일을 열 수 없습니다.\")\n",
        "    exit()\n",
        "\n",
        "# PyBullet 초기화\n",
        "p.connect(p.DIRECT)  # 헤드리스 모드로 실행\n",
        "p.setAdditionalSearchPath(pybullet_data.getDataPath())\n",
        "plane_id = p.loadURDF(\"plane.urdf\")\n",
        "table_id = p.createCollisionShape(p.GEOM_BOX, halfExtents=[1.5, 0.75, 0.01])  # 당구대 크기\n",
        "p.createMultiBody(baseCollisionShapeIndex=table_id, basePosition=[0, 0, -0.01])\n",
        "\n",
        "# 공의 속성\n",
        "BALL_RADIUS = 0.028\n",
        "BALL_MASS = 0.17\n",
        "\n",
        "# 공을 PyBullet 시뮬레이션에 추가\n",
        "def add_ball(position, velocity):\n",
        "    ball_id = p.createCollisionShape(p.GEOM_SPHERE, radius=BALL_RADIUS)\n",
        "    body_id = p.createMultiBody(\n",
        "        baseMass=BALL_MASS,\n",
        "        baseCollisionShapeIndex=ball_id,\n",
        "        basePosition=position,\n",
        "    )\n",
        "    p.resetBaseVelocity(body_id, linearVelocity=velocity)\n",
        "    return body_id\n",
        "\n",
        "frame_width = int(cap.get(cv2.CAP_PROP_FRAME_WIDTH))\n",
        "frame_height = int(cap.get(cv2.CAP_PROP_FRAME_HEIGHT))\n",
        "\n",
        "while cap.isOpened():\n",
        "    ret, frame = cap.read()\n",
        "    if not ret:\n",
        "        print(\"비디오를 더 이상 읽을 수 없습니다.\")\n",
        "        break\n",
        "\n",
        "    print(\"프레임 처리 중...\")\n",
        "\n",
        "    # 프레임을 RGB로 변환 (YOLO 요구 사항)\n",
        "    frame_rgb = cv2.cvtColor(frame, cv2.COLOR_BGR2RGB)\n",
        "\n",
        "    # YOLO 객체 감지\n",
        "    results = model(frame_rgb, conf=0.5)  # YOLO 모델 사용\n",
        "    balls = []\n",
        "    for result in results[0].boxes:  # 각 탐지된 객체에 접근\n",
        "        x1, y1, x2, y2 = result.xyxy[0]  # 경계 상자 좌표\n",
        "        cx, cy = (x1 + x2) / 2, (y1 + y2) / 2  # 중심 좌표 계산\n",
        "        balls.append((cx, cy))\n",
        "\n",
        "    print(f\"탐지된 공 좌표: {balls}\")\n",
        "\n",
        "    # PyBullet 좌표로 변환 및 공 추가\n",
        "    p.resetSimulation()\n",
        "    p.loadURDF(\"plane.urdf\")\n",
        "    p.createMultiBody(baseCollisionShapeIndex=table_id, basePosition=[0, 0, -0.01])\n",
        "\n",
        "    for ball in balls:\n",
        "        px, py = ball\n",
        "        position = [(px / frame_width) * 2.84 - 1.42, (py / frame_height) * 1.42 - 0.71, BALL_RADIUS]\n",
        "        print(f\"PyBullet 좌표: {position}\")\n",
        "        add_ball(position, [0, 0, 0])\n",
        "\n",
        "    # 궤적 시뮬레이션\n",
        "    for _ in range(120):  # 120 스텝 시뮬레이션\n",
        "        p.stepSimulation()\n",
        "\n",
        "    # 궤적 시각화\n",
        "    ball_positions = [\n",
        "        p.getBasePositionAndOrientation(body_id)[0][:2]\n",
        "        for body_id in range(p.getNumBodies())\n",
        "    ]\n",
        "    if ball_positions:\n",
        "        for path in ball_positions:\n",
        "            plt.scatter(*path, label=\"Ball Trajectory\")\n",
        "        plt.legend()\n",
        "        plt.title(\"Billiard Ball Trajectories\")\n",
        "        plt.xlabel(\"X Position\")\n",
        "        plt.ylabel(\"Y Position\")\n",
        "        plt.show()\n",
        "\n",
        "    break  # 첫 번째 프레임만 처리\n",
        "\n",
        "cap.release()\n",
        "cv2.destroyAllWindows()\n",
        "p.disconnect()"
      ],
      "metadata": {
        "colab": {
          "base_uri": "https://localhost:8080/",
          "height": 576
        },
        "id": "mdnG2AUSuYwh",
        "outputId": "e4d0483c-77f9-453a-b17a-fb22f2e6a404"
      },
      "execution_count": null,
      "outputs": [
        {
          "output_type": "stream",
          "name": "stdout",
          "text": [
            "프레임 처리 중...\n",
            "\n",
            "0: 640x384 1 tv, 179.2ms\n",
            "Speed: 6.5ms preprocess, 179.2ms inference, 1.4ms postprocess per image at shape (1, 3, 640, 384)\n",
            "탐지된 공 좌표: [(tensor(180.1725), tensor(308.8757))]\n",
            "PyBullet 좌표: [tensor(0.0014), tensor(-0.0247), 0.028]\n"
          ]
        },
        {
          "output_type": "display_data",
          "data": {
            "text/plain": [
              "<Figure size 640x480 with 1 Axes>"
            ],
            "image/png": "[encoded data removed]"
          },
          "metadata": {}
        }
      ]
    }
  ]
}